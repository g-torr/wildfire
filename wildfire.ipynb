{
 "cells": [
  {
   "cell_type": "code",
   "execution_count": 31,
   "metadata": {},
   "outputs": [
    {
     "name": "stdout",
     "output_type": "stream",
     "text": [
      "Using matplotlib backend: Qt5Agg\n",
      "Populating the interactive namespace from numpy and matplotlib\n"
     ]
    },
    {
     "name": "stderr",
     "output_type": "stream",
     "text": [
      "/home/k1762355/anaconda3/lib/python3.6/site-packages/IPython/core/magics/pylab.py:160: UserWarning: pylab import has clobbered these variables: ['f']\n",
      "`%matplotlib` prevents importing * from pylab and numpy\n",
      "  \"\\n`%matplotlib` prevents importing * from pylab and numpy\"\n"
     ]
    }
   ],
   "source": [
    "%pylab"
   ]
  },
  {
   "cell_type": "code",
   "execution_count": 32,
   "metadata": {
    "collapsed": true
   },
   "outputs": [],
   "source": [
    "import pickle\n",
    "def load_dict(name):\n",
    "        with open('dict-' + name + '.pkl', 'rb') as f:\n",
    "                return pickle.load(f)\n",
    "fire=load_dict(\"fire\")"
   ]
  },
  {
   "cell_type": "code",
   "execution_count": 22,
   "metadata": {},
   "outputs": [
    {
     "data": {
      "text/plain": [
       "(array([  8.84000000e+02,   1.16900000e+03,   1.00740000e+04,\n",
       "          3.65000000e+02,   3.05000000e+02,   2.30220000e+04,\n",
       "          2.69000000e+02,   3.21200000e+03,   1.28000000e+02,\n",
       "          1.12000000e+02,   1.30770000e+04,   1.63000000e+02,\n",
       "          3.00000000e+01,   1.30400000e+03,   9.20000000e+01,\n",
       "          6.93800000e+03,   1.07000000e+02,   5.70000000e+01,\n",
       "          6.10000000e+02,   5.20000000e+01,   6.40300000e+03,\n",
       "          6.00000000e+01,   3.30000000e+01,   3.02000000e+02,\n",
       "          4.90000000e+01,   1.90000000e+01,   3.11100000e+03,\n",
       "          4.40000000e+01,   1.92000000e+02,   1.80000000e+01,\n",
       "          3.10000000e+01,   1.76800000e+03,   2.60000000e+01,\n",
       "          1.65000000e+02,   1.60000000e+01,   2.60000000e+01,\n",
       "          1.92900000e+03,   2.30000000e+01,   1.20000000e+01,\n",
       "          1.22000000e+02,   2.20000000e+01,   6.81000000e+02,\n",
       "          1.90000000e+01,   2.10000000e+01,   9.90000000e+01,\n",
       "          1.70000000e+01,   8.00000000e+00,   0.00000000e+00,\n",
       "          0.00000000e+00,   0.00000000e+00,   0.00000000e+00,\n",
       "          0.00000000e+00,   0.00000000e+00,   0.00000000e+00,\n",
       "          0.00000000e+00,   0.00000000e+00,   0.00000000e+00,\n",
       "          0.00000000e+00,   0.00000000e+00,   0.00000000e+00,\n",
       "          0.00000000e+00,   0.00000000e+00,   0.00000000e+00,\n",
       "          0.00000000e+00,   0.00000000e+00,   0.00000000e+00,\n",
       "          0.00000000e+00,   0.00000000e+00,   0.00000000e+00,\n",
       "          0.00000000e+00,   0.00000000e+00,   0.00000000e+00,\n",
       "          0.00000000e+00,   0.00000000e+00,   0.00000000e+00,\n",
       "          0.00000000e+00,   0.00000000e+00,   0.00000000e+00,\n",
       "          0.00000000e+00,   0.00000000e+00,   0.00000000e+00,\n",
       "          0.00000000e+00,   0.00000000e+00,   0.00000000e+00,\n",
       "          0.00000000e+00,   0.00000000e+00,   0.00000000e+00,\n",
       "          0.00000000e+00,   0.00000000e+00,   0.00000000e+00,\n",
       "          0.00000000e+00,   0.00000000e+00,   0.00000000e+00,\n",
       "          0.00000000e+00,   0.00000000e+00,   0.00000000e+00,\n",
       "          0.00000000e+00,   0.00000000e+00,   0.00000000e+00]),\n",
       " array([  1.        ,   1.19191919,   1.38383838,   1.57575758,\n",
       "          1.76767677,   1.95959596,   2.15151515,   2.34343434,\n",
       "          2.53535354,   2.72727273,   2.91919192,   3.11111111,\n",
       "          3.3030303 ,   3.49494949,   3.68686869,   3.87878788,\n",
       "          4.07070707,   4.26262626,   4.45454545,   4.64646465,\n",
       "          4.83838384,   5.03030303,   5.22222222,   5.41414141,\n",
       "          5.60606061,   5.7979798 ,   5.98989899,   6.18181818,\n",
       "          6.37373737,   6.56565657,   6.75757576,   6.94949495,\n",
       "          7.14141414,   7.33333333,   7.52525253,   7.71717172,\n",
       "          7.90909091,   8.1010101 ,   8.29292929,   8.48484848,\n",
       "          8.67676768,   8.86868687,   9.06060606,   9.25252525,\n",
       "          9.44444444,   9.63636364,   9.82828283,  10.02020202,\n",
       "         10.21212121,  10.4040404 ,  10.5959596 ,  10.78787879,\n",
       "         10.97979798,  11.17171717,  11.36363636,  11.55555556,\n",
       "         11.74747475,  11.93939394,  12.13131313,  12.32323232,\n",
       "         12.51515152,  12.70707071,  12.8989899 ,  13.09090909,\n",
       "         13.28282828,  13.47474747,  13.66666667,  13.85858586,\n",
       "         14.05050505,  14.24242424,  14.43434343,  14.62626263,\n",
       "         14.81818182,  15.01010101,  15.2020202 ,  15.39393939,\n",
       "         15.58585859,  15.77777778,  15.96969697,  16.16161616,\n",
       "         16.35353535,  16.54545455,  16.73737374,  16.92929293,\n",
       "         17.12121212,  17.31313131,  17.50505051,  17.6969697 ,\n",
       "         17.88888889,  18.08080808,  18.27272727,  18.46464646,\n",
       "         18.65656566,  18.84848485,  19.04040404,  19.23232323,\n",
       "         19.42424242,  19.61616162,  19.80808081,  20.        ]),\n",
       " <a list of 99 Patch objects>)"
      ]
     },
     "execution_count": 22,
     "metadata": {},
     "output_type": "execute_result"
    }
   ],
   "source": []
  },
  {
   "cell_type": "code",
   "execution_count": 111,
   "metadata": {},
   "outputs": [
    {
     "data": {
      "text/plain": [
       "29"
      ]
     },
     "execution_count": 111,
     "metadata": {},
     "output_type": "execute_result"
    }
   ],
   "source": [
    "len(fire[\"Country\"])\n",
    "len(titles)\n"
   ]
  },
  {
   "cell_type": "code",
   "execution_count": 5,
   "metadata": {},
   "outputs": [
    {
     "data": {
      "text/plain": [
       "(array([  4.53504000e+05,   4.40000000e+01,   1.50000000e+01,\n",
       "          5.00000000e+00,   3.00000000e+00,   0.00000000e+00,\n",
       "          2.00000000e+00,   2.00000000e+00,   1.00000000e+00,\n",
       "          1.00000000e+00]),\n",
       " array([  1.00000000e-06,   3.60190000e+03,   7.20380000e+03,\n",
       "          1.08057000e+04,   1.44076000e+04,   1.80095000e+04,\n",
       "          2.16114000e+04,   2.52133000e+04,   2.88152000e+04,\n",
       "          3.24171000e+04,   3.60190000e+04]),\n",
       " <a list of 10 Patch objects>)"
      ]
     },
     "execution_count": 5,
     "metadata": {},
     "output_type": "execute_result"
    }
   ],
   "source": [
    "fire[\"tot_burnt\"]"
   ]
  },
  {
   "cell_type": "code",
   "execution_count": 9,
   "metadata": {},
   "outputs": [
    {
     "data": {
      "text/plain": [
       "(0, 0.16624134380711544)"
      ]
     },
     "execution_count": 9,
     "metadata": {},
     "output_type": "execute_result"
    },
    {
     "data": {
      "image/png": "[encoded data removed]",
      "text/plain": [
       "<matplotlib.figure.Figure at 0x7f1c12dd5c88>"
      ]
     },
     "metadata": {},
     "output_type": "display_data"
    }
   ],
   "source": [
    "%matplotlib inline\n"
   ]
  },
  {
   "cell_type": "markdown",
   "metadata": {},
   "source": [
    "Distribution of the burned area  for  public and private shrub fires.Only the fires that involves area larger than 5 ha are taken into account.  Please consider that the number of data in the 2 cases  is very different:"
   ]
  },
  {
   "cell_type": "code",
   "execution_count": 10,
   "metadata": {},
   "outputs": [
    {
     "name": "stdout",
     "output_type": "stream",
     "text": [
      "A= 5.86707189106 k= -2.01000875038\n",
      "the number of  fires in public areas is 8783\n",
      "A= 2.88466587216 k= -1.75506474918\n",
      "the number of  fires  in private areas is 3133\n"
     ]
    },
    {
     "data": {
      "image/png": "[encoded data removed]",
      "text/plain": [
       "<matplotlib.figure.Figure at 0x7f1c12dd5208>"
      ]
     },
     "metadata": {},
     "output_type": "display_data"
    },
    {
     "data": {
      "image/png": "[encoded data removed]",
      "text/plain": [
       "<matplotlib.figure.Figure at 0x7f1c1321fc50>"
      ]
     },
     "metadata": {},
     "output_type": "display_data"
    }
   ],
   "source": [
    "%matplotlib inline\n",
    "d=fire[\"public_shrub_burnt\"]\n",
    "d=d[d>5]\n",
    "h,b=histogram(d,bins=logspace(1,log10(max(d)),10),density=True)\n",
    "plot(b[:-1],h,\"wo\",ms=7,mec=\"k\",mew=3)\n",
    "xlabel(\"Area ( in ha)\")\n",
    "ylabel(\"frequency density\")\n",
    "loglog()\n",
    "fitting(b[:-1],h)\n",
    "print(\"the number of  fires in public areas is \"+str(len(d)))\n",
    "figure()\n",
    "e=fire[\"private_shrub_burnt\"]\n",
    "e=e[e>0]\n",
    "h,b=histogram(e,bins=logspace(1,log10(max(e)),10),density=True)\n",
    "plot(b[:-1],h,\"wo\",ms=7,mec=\"k\",mew=3)\n",
    "xlabel(\"Area ( in ha)\")\n",
    "ylabel(\"frequency density\")\n",
    "loglog()\n",
    "fitting(b[:-1],h)\n",
    "print(\"the number of  fires  in private areas is \"+str(len(e)))"
   ]
  },
  {
   "cell_type": "markdown",
   "metadata": {},
   "source": [
    "Distribution of the burned area  for  public and private forest fires.Only the fires that involves area larger than 5 ha are taken into account.  Please consider that the number of data in the 2 cases  is very different:"
   ]
  },
  {
   "cell_type": "code",
   "execution_count": 43,
   "metadata": {},
   "outputs": [
    {
     "name": "stdout",
     "output_type": "stream",
     "text": [
      "A= 3.50542593225 k= -1.89857414774\n",
      "the number of  fires in public areas is 5626\n",
      "A= 5.56015228864 k= -1.96596003938\n",
      "the number of  fires  in private areas is 907\n"
     ]
    },
    {
     "data": {
      "image/png": "[encoded data removed]",
      "text/plain": [
       "<matplotlib.figure.Figure at 0x7f9be92970b8>"
      ]
     },
     "metadata": {},
     "output_type": "display_data"
    },
    {
     "data": {
      "image/png": "[encoded data removed]",
      "text/plain": [
       "<matplotlib.figure.Figure at 0x7f9be94ffa58>"
      ]
     },
     "metadata": {},
     "output_type": "display_data"
    }
   ],
   "source": [
    "%matplotlib inline\n",
    "d=fire[\"public_forest_burnt\"]\n",
    "d=d[d>5]\n",
    "h,b=histogram(d,bins=logspace(1,log10(max(d)),10),density=True)\n",
    "plot(b[:-1],h,\"wo\",ms=7,mec=\"k\",mew=3)\n",
    "xlabel(\"Area ( in ha)\")\n",
    "ylabel(\"frequency density\")\n",
    "loglog()\n",
    "fitting(b[:-1],h)\n",
    "print(\"the number of  fires in public areas is \"+str(len(d)))\n",
    "figure()\n",
    "e=fire[\"private_forest_burnt\"]\n",
    "e=e[e>5]\n",
    "h,b=histogram(e,bins=logspace(1,log10(max(e)),10),density=True)\n",
    "plot(b[:-1],h,\"wo\",ms=7,mec=\"k\",mew=3)\n",
    "xlabel(\"Area ( in ha)\")\n",
    "ylabel(\"frequency density\")\n",
    "loglog()\n",
    "fitting(b[:-1],h)\n",
    "print(\"the number of  fires  in private areas is \"+str(len(e)))"
   ]
  },
  {
   "cell_type": "markdown",
   "metadata": {},
   "source": [
    "The same as before in agricultural areas"
   ]
  },
  {
   "cell_type": "code",
   "execution_count": 8,
   "metadata": {},
   "outputs": [
    {
     "name": "stdout",
     "output_type": "stream",
     "text": [
      "the number of  fires in agricultual areas is 470\n",
      "A= 1.30809192962 k= -1.57756758067\n"
     ]
    },
    {
     "data": {
      "image/png": "[encoded data removed]",
      "text/plain": [
       "<matplotlib.figure.Figure at 0x7f56336b9da0>"
      ]
     },
     "metadata": {},
     "output_type": "display_data"
    }
   ],
   "source": [
    "%matplotlib inline\n",
    "d=fire[\"agricultural_burnt\"]\n",
    "d=d[d>5]\n",
    "h,b=histogram(d,bins=logspace(1,log10(max(d)),10),density=True)\n",
    "plot(b[:-1],h,\"wo\",ms=7,mec=\"k\",mew=3,label=\"data\")\n",
    "xlabel(\"Area ( in ha)\")\n",
    "ylabel(\"frequency density\")\n",
    "#semilogx()\n",
    "print(\"the number of  fires in agricultual areas is \"+str(len(d)))\n",
    "#k,a_log=polyfit(log(b[:-1]),log(h),1)\n",
    "loglog()\n",
    "fitting(b[:-1],h)\n",
    "\n"
   ]
  },
  {
   "cell_type": "code",
   "execution_count": 4,
   "metadata": {
    "collapsed": true
   },
   "outputs": [],
   "source": [
    "def func(x,a,k):\n",
    "    return a*x**(-k)\n",
    "from scipy.optimize import curve_fit\n",
    "def fitting_nonlinear(x,y):\n",
    "    popt, pcov = curve_fit(func,x,y)\n",
    "    plot(x,func(x,*popt), 'r--', label='fit $ax^{-k}$ ,$k=$'+str(popt[1])[:4])\n",
    "    #loglog()\n",
    "    legend(fontsize=16)\n",
    "    print(popt)\n",
    "def fitting(x,y):\n",
    "        k,a_log=polyfit(log(x),log(y),1)\n",
    "        ybar=mean(log(y))\n",
    "        yhat=a_log+k*log(x)\n",
    "        ssreg = numpy.sum((yhat-ybar)**2)\n",
    "        sstot = numpy.sum((log(y) - ybar)**2)\n",
    "        plot(x,func(x,exp(a_log),-k),\"r--\", label='LS fit')\n",
    "        print(\"A= \"+str(exp(a_log))+\" k= \"+str(k))\n",
    "        rsquared = ssreg / sstot\n",
    "        return exp(a_log),k,rsquared"
   ]
  },
  {
   "cell_type": "code",
   "execution_count": 7,
   "metadata": {},
   "outputs": [
    {
     "data": {
      "text/plain": [
       "array([ 1.        ,  0.77426368,  0.59948425,  0.46415888,  0.35938137,\n",
       "        0.27825594,  0.21544347,  0.16681005,  0.12915497,  0.1       ])"
      ]
     },
     "execution_count": 7,
     "metadata": {},
     "output_type": "execute_result"
    }
   ],
   "source": []
  },
  {
   "cell_type": "markdown",
   "metadata": {},
   "source": [
    "This is the total area "
   ]
  },
  {
   "cell_type": "code",
   "execution_count": 30,
   "metadata": {
    "scrolled": true
   },
   "outputs": [
    {
     "name": "stdout",
     "output_type": "stream",
     "text": [
      "Using matplotlib backend: Qt5Agg\n",
      "A= 279363.253957 k= -0.932843991334\n",
      "cumulative parameters are1.0\n",
      "rsquared cdf0.975990968927\n",
      "norm +1615997.44454\n",
      "A= 545738.857576 k= -2.0576455249\n",
      "rsquared pdf0.990958535399\n"
     ]
    },
    {
     "name": "stderr",
     "output_type": "stream",
     "text": [
      "/home/k1762355/anaconda3/lib/python3.6/site-packages/powerlaw.py:697: RuntimeWarning: invalid value encountered in true_divide\n",
      "  (Theoretical_CDF * (1 - Theoretical_CDF))\n"
     ]
    }
   ],
   "source": [
    "import powerlaw\n",
    "%matplotlib \n",
    "figure(figsize=(4,3))\n",
    "f=fire[\"tot_burnt\"]\n",
    "x0=1\n",
    "xmin=39\n",
    "f=f[f>=x0]\n",
    "def MLE(x,xmin):\n",
    "    x=x[x>=xmin]\n",
    "    return 1+len(x)*sum(log(x/(xmin)))**-1\n",
    "def CDF(f):\n",
    "    xlabel(\"Area ( in ha)\")\n",
    "    ylabel(\"CDF)\")\n",
    "    loglog()\n",
    "    plot(sort(f[f<xmin]),len(f)-arange(0,len(f[f<xmin])),\"m.\")\n",
    "    plot(sort(f[f>xmin]),len(f)-(len(f[f<=xmin])+arange(0,len(f[f>xmin]))),\"b.\")\n",
    "    xlabel(\"Area $A_F$ (ha)\",size=12)\n",
    "    ylabel(\"Cumulative frequency, $F(A_F)$\",size=12)\n",
    "    intercept,alpha_ls,rsquared=fitting(sort(f[f>xmin]),len(f)-len(f[f<=xmin])-arange(0,len(f[f>xmin])))\n",
    "    alpha=MLE(f,xmin)\n",
    "    t=logspace(log10(min(f[f>xmin])),log10(max(f)),20)\n",
    "    plot(t,len(f[f>=xmin])*((alpha-1)*xmin**(alpha-1))/(alpha-1)*t**(1-alpha),\"-.\",label=\"MLE fit\")\n",
    "    text(1,0.2,\"LS: $F(A_F)=\"+str(\"%.2g\"% intercept)+\"A_F^{\"+str(round(alpha_ls,2))+\"}$, $r^2=$\"+str(round(rsquared,2)))\n",
    "    text(1,1,\"MLE: $F(A_F)=\"+str(\"%.2g\"% (len(f[f>xmin])*((alpha-1)*xmin**(alpha-1)/(alpha-1))))+\"A_F^{\"+str(round(1-alpha,2))+\"}$ \")\n",
    "    print( \"cumulative parameters are\"+str(round(((alpha-1)*x0**(alpha-1))/(alpha-1),2)))\n",
    "    legend(fontsize=12)\n",
    "    tight_layout()\n",
    "    ylim(1e-1)\n",
    "    print(\"rsquared cdf\"+str(rsquared))\n",
    "CDF(f)\n",
    "\n",
    "def PDF(f):\n",
    "    figure(figsize=(4,3))\n",
    "    xlabel(\"Area ( in ha)\")\n",
    "    ylabel(\"PDF\")\n",
    "    h,b=histogram(f,bins=logspace(log10(min(f)),log10(max(f)+10),21),density=False)\n",
    "    x=(b[:-1]+b[1:])/2.\n",
    "    plot(x[x<xmin],h[x<xmin]/diff(b)[x<xmin],\"wo\",ms=6,mec=\"m\",mew=2)\n",
    "    plot(x[x>=xmin],h[x>=xmin]/diff(b)[x>=xmin],\"wo\",ms=6,mec=\"b\",mew=2)\n",
    "    xlabel(\"Area $A_F$ (ha)\",size=12)\n",
    "    ylabel(\"Non-cumulative frequency,\\n $f(A_F)$ (ha)$^{-1}$ \",size=12)\n",
    "    errorbar(x,h/diff(b),xerr=diff(b)/4,ls=\"None\")\n",
    "    #loglog()\n",
    "    print(\"norm +\"+str(sum((diff(b))*h)))\n",
    "    alpha=MLE(f,xmin)\n",
    "    plot(x[x>xmin],len(f[f>xmin])*((alpha-1)*xmin**(alpha-1))*x[x>xmin]**-alpha,\"-.\",label=\"MLE fit\")\n",
    "    intercept,alpha_ls,rsquared=fitting(x[x>xmin],h[x>xmin]/diff(b)[x>xmin])\n",
    "    text(1,2e-5,\"LS: $f(A_F)=\"+str(\"%.2g\"% intercept)+\"A_F^{\"+str(round(alpha_ls,2))+\"}$, $r^2=$\"+str(round(rsquared,2)))\n",
    "    text(1,5e-4,\"MLE: $f(A_F)=\"+str(\"%.2g\"%(len(f[f>xmin])*(alpha-1)/x0**(1-alpha)))+\"A_F^{\"+str(round(-alpha,2))+\"}$\")\n",
    "    tight_layout()\n",
    "    legend(fontsize=12.5)\n",
    "    ylim(1e-5,175000)\n",
    "    loglog()\n",
    "    print(\"rsquared pdf\"+str(rsquared))\n",
    "\n",
    "PDF(f)    \n",
    "\n",
    "\n",
    "fit=powerlaw.Fit(f,xmin=x0)\n",
    "\n",
    "alpha=MLE(f,xmin)\n",
    "#plot(f,(alpha-1)/(x0**(1-alpha))*f**(-alpha+1)/(alpha-1))\n",
    "\n",
    "#plot(f,(alpha-1)/(x0**(1-alpha))*f**(-alpha))\n",
    "     \n",
    "#alpha=MLE(f,1000)\n"
   ]
  },
  {
   "cell_type": "markdown",
   "metadata": {},
   "source": [
    "Make the CDF and extimate the recurrent event"
   ]
  },
  {
   "cell_type": "code",
   "execution_count": 127,
   "metadata": {},
   "outputs": [
    {
     "name": "stdout",
     "output_type": "stream",
     "text": [
      "-4.68856883071\n",
      "-4.68856883071\n",
      "-4.68856883071\n"
     ]
    },
    {
     "data": {
      "text/plain": [
       "<matplotlib.text.Text at 0x7f15e2224b70>"
      ]
     },
     "execution_count": 127,
     "metadata": {},
     "output_type": "execute_result"
    }
   ],
   "source": [
    "def theoretical_extimate(fit):\n",
    "    p= 1-0.99**25.8\n",
    "    xmin=fit.xmin\n",
    "    alpha=fit.alpha\n",
    "    Ax=xmin*p**(1/(1-alpha))\n",
    "    error=xmin*p**(1/(1-alpha))*log(p)*(1/(1-alpha)**2)*fit.sigma\n",
    "    print(error)\n",
    "    return  Ax\n",
    "close(\"all\")\n",
    "figure(figsize=(4,3))\n",
    "f=fire[\"tot_burnt\"]\n",
    "xmin=39\n",
    "f=f[f>xmin]\n",
    "#plot(sort(f),1-arange(0,len(f))/len(f),\"m.\")\n",
    "fit=powerlaw.Fit(f,xmin=xmin)\n",
    "alpha=fit.alpha\n",
    "t=logspace(log10(min(f)),log10(max(f)))\n",
    "plot(t,(t/39)**(1-alpha),label=\"model\")\n",
    "loglog()\n",
    "axhline(1-0.99**25.8,ls=\"--\",c=\"r\")\n",
    "axvline( theoretical_extimate(fit) ,ls=\"--\",c=\"r\")\n",
    "#legend()\n",
    "xlabel(\"Total area burnt, $A_f$ (ha)\",fontsize=12.5)\n",
    "ylabel(\"CDF, $A_F$\",fontsize=12.5)\n",
    "tight_layout()\n",
    "text(theoretical_extimate(fit)+30,6e-3,\"$A_{100}=$ \"+str(round(theoretical_extimate(fit),))+\" ha\",color=\"r\")\n",
    "text(3e3,1-0.99**25.8+.03 ,\"$CDF=$ \"+str(round(1-0.99**25.8,3)),color=\"r\")\n",
    "\n"
   ]
  },
  {
   "cell_type": "code",
   "execution_count": 123,
   "metadata": {},
   "outputs": [
    {
     "name": "stdout",
     "output_type": "stream",
     "text": [
      "-4.68856883071\n"
     ]
    },
    {
     "data": {
      "text/plain": [
       "234.20926883917423"
      ]
     },
     "execution_count": 123,
     "metadata": {},
     "output_type": "execute_result"
    }
   ],
   "source": [
    "theoretical_extimate(fit)"
   ]
  },
  {
   "cell_type": "code",
   "execution_count": 19,
   "metadata": {},
   "outputs": [
    {
     "data": {
      "text/plain": [
       "array([  5.00100000e+00,   1.34173011e+01,   3.59975941e+01,\n",
       "         9.65787960e+01,   2.59113534e+02,   6.95181823e+02,\n",
       "         1.86511974e+03,   5.00397383e+03,   1.34252796e+04,\n",
       "         3.60190000e+04])"
      ]
     },
     "execution_count": 19,
     "metadata": {},
     "output_type": "execute_result"
    }
   ],
   "source": [
    "logspace(log10(min(f)),log10(max(f)),10)"
   ]
  },
  {
   "cell_type": "code",
   "execution_count": 10,
   "metadata": {
    "collapsed": true
   },
   "outputs": [],
   "source": []
  },
  {
   "cell_type": "code",
   "execution_count": 39,
   "metadata": {
    "collapsed": true
   },
   "outputs": [],
   "source": [
    "a=fire[\"tot_burnt\"]\n",
    "y=[MLE(a,i) for i in arange(1,1e4)]\n"
   ]
  },
  {
   "cell_type": "code",
   "execution_count": 26,
   "metadata": {
    "collapsed": true
   },
   "outputs": [],
   "source": [
    "def area_over_time():\n",
    "    area=fire[\"tot_burnt\"]\n",
    "    ign=fire[\"ignition_date\"]\n",
    "    cond=(area>1000)&(ign>0)\n",
    "    area=area[cond]\n",
    "    ign=ign[cond]\n",
    "    y=from_days_to_date(ign,\"month\")\n",
    "    h,b=histogram(y,bins=arange(1,14),density=True)\n",
    "    plot(b[:-1],h,\"wo\",ms=7,mec=\"k\",mew=3)\n",
    "    ylabel(\"Frequency density of fires\")\n",
    "    xlabel(\"Month\")\n",
    "    figure()\n",
    "    '''title(\"area\")\n",
    "    hist(y,bins=arange(1,14),weights=area)'''\n",
    "    y=from_days_to_date(ign,\"year\")\n",
    "    h,b=histogram(y,bins=arange(min(y),max(y)+2,5),density=True)\n",
    "    plot(b[:-1],h,\"-o\",ms=7,mec=\"k\",mew=3)\n",
    "    ylabel(\"Frequency density of fires\")\n",
    "    xlabel(\"Year\")\n",
    "def from_days_to_date(b,feature=\"month\"):\n",
    "    if feature==\"day\":\n",
    "        return [(datetime.date(1900, 1, 1) + datetime.timedelta(int(i))).day for i in b] # this convert the number of days from 1st Jan 1900 to standard date, from which I can extract the feature\n",
    "    elif feature==\"month\":\n",
    "        return [(datetime.date(1900, 1, 1) + datetime.timedelta(int(i))).month for i in b] # this convert the number of days from 1st Jan 1900 to standard date, from which I can extract the feature\n",
    "    elif feature==\"year\":\n",
    "        return [(datetime.date(1900, 1, 1) + datetime.timedelta(int(i))).year for i in b] # this convert the number of days from 1st Jan 1900 to standard date, from which I can extract the feature\n",
    "    else:\n",
    "        raise NameError(\"accepted features are: days, month or year\")"
   ]
  },
  {
   "cell_type": "code",
   "execution_count": 28,
   "metadata": {},
   "outputs": [
    {
     "data": {
      "image/png": "[encoded data removed]",
      "text/plain": [
       "<matplotlib.figure.Figure at 0x7ff07a964518>"
      ]
     },
     "metadata": {},
     "output_type": "display_data"
    },
    {
     "data": {
      "image/png": "[encoded data removed]",
      "text/plain": [
       "<matplotlib.figure.Figure at 0x7ff07adf4fd0>"
      ]
     },
     "metadata": {},
     "output_type": "display_data"
    }
   ],
   "source": [
    "%matplotlib inline\n",
    "area_over_time()"
   ]
  },
  {
   "cell_type": "code",
   "execution_count": 27,
   "metadata": {
    "collapsed": true
   },
   "outputs": [],
   "source": [
    "histogram?"
   ]
  },
  {
   "cell_type": "code",
   "execution_count": 7,
   "metadata": {},
   "outputs": [
    {
     "data": {
      "text/plain": [
       "array([1, 2, 3, 4, 5, 6, 7, 8, 9])"
      ]
     },
     "execution_count": 7,
     "metadata": {},
     "output_type": "execute_result"
    }
   ],
   "source": [
    "arange(1,10)"
   ]
  },
  {
   "cell_type": "code",
   "execution_count": null,
   "metadata": {
    "collapsed": true
   },
   "outputs": [],
   "source": []
  }
 ],
 "metadata": {
  "kernelspec": {
   "display_name": "Python 3",
   "language": "python",
   "name": "python3"
  },
  "language_info": {
   "codemirror_mode": {
    "name": "ipython",
    "version": 3
   },
   "file_extension": ".py",
   "mimetype": "text/x-python",
   "name": "python",
   "nbconvert_exporter": "python",
   "pygments_lexer": "ipython3",
   "version": "3.6.2"
  }
 },
 "nbformat": 4,
 "nbformat_minor": 2
}
